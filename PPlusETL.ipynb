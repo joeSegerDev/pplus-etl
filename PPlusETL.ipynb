{
  "metadata": {
    "language_info": {
      "codemirror_mode": {
        "name": "python",
        "version": 3
      },
      "file_extension": ".py",
      "mimetype": "text/x-python",
      "name": "python",
      "nbconvert_exporter": "python",
      "pygments_lexer": "ipython3",
      "version": "3.8"
    },
    "kernelspec": {
      "name": "python",
      "display_name": "Python (Pyodide)",
      "language": "python"
    }
  },
  "nbformat_minor": 4,
  "nbformat": 4,
  "cells": [
    {
      "cell_type": "markdown",
      "source": "# Project + Community Matchup Data ETL\n\nPipeline for processing responses collected from a Google Form survey into data formatted for statistical analysis.\n\nIntended data usage is to create:\n- A matchup chart\n- A confidence rating for each matchup\n- Tier lists based on multiple statistical factors",
      "metadata": {}
    },
    {
      "cell_type": "markdown",
      "source": "## Data import from survey submissions 📓\n\nPull the data from the csv and strip out the uneccessary columns, leaving a dataframe with only characters, player skill, and matchup data.",
      "metadata": {}
    },
    {
      "cell_type": "markdown",
      "source": "%pip install pandas",
      "metadata": {}
    },
    {
      "cell_type": "code",
      "source": "import pandas as pd\nimport numpy as np\n\ndf = pd.read_csv('P+ Community Matchup Chart Form Responses.csv')\n\ndf.rename(columns={'Please select a character to submit matchup data for.': 'Character', 'What is your approximate skill level?' : 'Skill', 'What is your tag?': 'Tag', 'I attest that the data I am submitting is my actual opinion, and I am not submitting junk data to cause a headache.' : 'Attestation'}, inplace=True)\n\nmatchupDf = df.drop(columns=['Timestamp', 'Tag','Attestation'])\nmatchupDf = matchupDf.sort_values(by=['Character', 'Skill'])\n\nprint(matchupDf.head(5))",
      "metadata": {
        "trusted": true
      },
      "execution_count": 1,
      "outputs": [
        {
          "name": "stdout",
          "text": "          Character                                              Skill Bowser  \\\n179          Bowser  High Level (I regularly make it out of pools i...  50:50   \n42           Bowser  Intermediate (I have participated in multiple ...  50:50   \n121          Bowser  Intermediate (I have participated in multiple ...  50:50   \n163          Bowser  Top Player (I have won regional or larger size...  50:50   \n34   Captain Falcon  High Level (I regularly make it out of pools i...  70:30   \n\n    Captain Falcon Charizard Diddy Kong Donkey Kong  Falco    Fox Ganondorf  \\\n179          50:50     55:45      45:55       50:50  60:40  60:40     60:40   \n42           30:70     45:55        NaN       55:45  40:60  50:50     45:55   \n121          60:40     70:30      40:60       50:50  30:70  70:30     60:40   \n163          40:60     40:60      55:45       40:60  60:40  60:40     40:60   \n34           50:50     70:30      55:45       60:40  45:55  30:70     70:30   \n\n     ...  Sheik  Snake  Sonic Squirtle Toon Link  Wario   Wolf  Yoshi  Zelda  \\\n179  ...  40:60  55:45  45:55    50:50     50:50  45:55  45:55  60:40  55:45   \n42   ...  30:70  40:60  40:60    40:60     30:70  30:70  45:55  40:60  40:60   \n121  ...  40:60  20:80  30:70    45:55     30:70  45:55  60:40  60:40  70:30   \n163  ...  45:55  55:45  40:60    40:60     45:55  40:60  55:45  55:45  60:40   \n34   ...  30:70  55:45  70:30    55:45     70:30  55:45  45:55  70:30  80:20   \n\n    Zero Suit Samus  \n179           50:50  \n42            40:60  \n121           45:55  \n163           40:60  \n34            50:50  \n\n[5 rows x 44 columns]\n",
          "output_type": "stream"
        }
      ]
    },
    {
      "cell_type": "markdown",
      "source": "## Transform data 🔄\n\nTransform the raw data to a format suitable for statistical analysis.\n- Matchup ratios converted to a numerical value ranging from -3 to 3\n- Skill levels converted to a weight between 1 and 5",
      "metadata": {}
    },
    {
      "cell_type": "code",
      "source": "matchupDf = matchupDf.replace({'50:50': 0,'55:45': .5,'60:40': 1,'70:30': 2,'80:20': 3,'45:55': -.5,'40:60': -1,'30:70': -2,'20:80': -3}, regex=True)\n\nmatchupDf = matchupDf.replace({'Intermediate \\(I have participated in multiple tournaments\\)': 1,'High Level \\(I regularly make it out of pools in tournaments\\)': 3,'Top Player \\(I have won regional or larger sized tournaments\\)': 5}, regex=True)\n\nprint(matchupDf.head(5))",
      "metadata": {
        "trusted": true
      },
      "execution_count": 2,
      "outputs": [
        {
          "name": "stdout",
          "text": "          Character  Skill  Bowser  Captain Falcon  Charizard  Diddy Kong  \\\n179          Bowser      3     0.0             0.0        0.5        -0.5   \n42           Bowser      1     0.0            -2.0       -0.5         NaN   \n121          Bowser      1     0.0             1.0        2.0        -1.0   \n163          Bowser      5     0.0            -1.0       -1.0         0.5   \n34   Captain Falcon      3     2.0             0.0        2.0         0.5   \n\n     Donkey Kong  Falco  Fox  Ganondorf  ...  Sheik  Snake  Sonic  Squirtle  \\\n179          0.0    1.0  1.0        1.0  ...   -1.0    0.5   -0.5       0.0   \n42           0.5   -1.0  0.0       -0.5  ...   -2.0   -1.0   -1.0      -1.0   \n121          0.0   -2.0  2.0        1.0  ...   -1.0   -3.0   -2.0      -0.5   \n163         -1.0    1.0  1.0       -1.0  ...   -0.5    0.5   -1.0      -1.0   \n34           1.0   -0.5 -2.0        2.0  ...   -2.0    0.5    2.0       0.5   \n\n     Toon Link  Wario  Wolf  Yoshi  Zelda  Zero Suit Samus  \n179        0.0   -0.5  -0.5    1.0    0.5              0.0  \n42        -2.0   -2.0  -0.5   -1.0   -1.0             -1.0  \n121       -2.0   -0.5   1.0    1.0    2.0             -0.5  \n163       -0.5   -1.0   0.5    0.5    1.0             -1.0  \n34         2.0    0.5  -0.5    2.0    3.0              0.0  \n\n[5 rows x 44 columns]\n",
          "output_type": "stream"
        }
      ]
    },
    {
      "cell_type": "markdown",
      "source": "### Data weighting 🏋️‍♂️\n\nDuplicate rows based on skill level to reflect the weight of each entry.<br>\nWhile not an efficient solution if considering memory constraints, does make later analysis more straightforward.",
      "metadata": {}
    },
    {
      "cell_type": "code",
      "source": "expandedDf = matchupDf.loc[matchupDf.index.repeat(matchupDf.Skill)]\n\nexpandedDf = expandedDf.drop(columns=['Skill'])\n\nprint(expandedDf)",
      "metadata": {
        "trusted": true
      },
      "execution_count": 3,
      "outputs": [
        {
          "name": "stdout",
          "text": "           Character  Bowser  Captain Falcon  Charizard  Diddy Kong  \\\n179           Bowser     0.0             0.0        0.5        -0.5   \n179           Bowser     0.0             0.0        0.5        -0.5   \n179           Bowser     0.0             0.0        0.5        -0.5   \n42            Bowser     0.0            -2.0       -0.5         NaN   \n121           Bowser     0.0             1.0        2.0        -1.0   \n..               ...     ...             ...        ...         ...   \n19   Zero Suit Samus     1.0             0.5        0.5         1.0   \n19   Zero Suit Samus     1.0             0.5        0.5         1.0   \n19   Zero Suit Samus     1.0             0.5        0.5         1.0   \n19   Zero Suit Samus     1.0             0.5        0.5         1.0   \n19   Zero Suit Samus     1.0             0.5        0.5         1.0   \n\n     Donkey Kong  Falco  Fox  Ganondorf  Ice Climbers  ...  Sheik  Snake  \\\n179          0.0    1.0  1.0        1.0           0.0  ...   -1.0    0.5   \n179          0.0    1.0  1.0        1.0           0.0  ...   -1.0    0.5   \n179          0.0    1.0  1.0        1.0           0.0  ...   -1.0    0.5   \n42           0.5   -1.0  0.0       -0.5          -3.0  ...   -2.0   -1.0   \n121          0.0   -2.0  2.0        1.0          -0.5  ...   -1.0   -3.0   \n..           ...    ...  ...        ...           ...  ...    ...    ...   \n19          -1.0    1.0 -0.5        0.5           0.5  ...   -0.5    1.0   \n19          -1.0    1.0 -0.5        0.5           0.5  ...   -0.5    1.0   \n19          -1.0    1.0 -0.5        0.5           0.5  ...   -0.5    1.0   \n19          -1.0    1.0 -0.5        0.5           0.5  ...   -0.5    1.0   \n19          -1.0    1.0 -0.5        0.5           0.5  ...   -0.5    1.0   \n\n     Sonic  Squirtle  Toon Link  Wario  Wolf  Yoshi  Zelda  Zero Suit Samus  \n179   -0.5       0.0        0.0   -0.5  -0.5    1.0    0.5              0.0  \n179   -0.5       0.0        0.0   -0.5  -0.5    1.0    0.5              0.0  \n179   -0.5       0.0        0.0   -0.5  -0.5    1.0    0.5              0.0  \n42    -1.0      -1.0       -2.0   -2.0  -0.5   -1.0   -1.0             -1.0  \n121   -2.0      -0.5       -2.0   -0.5   1.0    1.0    2.0             -0.5  \n..     ...       ...        ...    ...   ...    ...    ...              ...  \n19     0.0       0.5        1.0    0.0   0.5    0.5    1.0              0.0  \n19     0.0       0.5        1.0    0.0   0.5    0.5    1.0              0.0  \n19     0.0       0.5        1.0    0.0   0.5    0.5    1.0              0.0  \n19     0.0       0.5        1.0    0.0   0.5    0.5    1.0              0.0  \n19     0.0       0.5        1.0    0.0   0.5    0.5    1.0              0.0  \n\n[516 rows x 43 columns]\n",
          "output_type": "stream"
        }
      ]
    },
    {
      "cell_type": "markdown",
      "source": "### Aggregation 🙏\n\nAggregate row data into lists.\n- Each row and column represent a character\n- Each data cell contains a list of all matchup data submitted for a given combination of characters",
      "metadata": {}
    },
    {
      "cell_type": "code",
      "source": "aggregatedDf = expandedDf.groupby('Character').agg(lambda x: list(x.dropna()))\n\nprint(aggregatedDf.head(3))",
      "metadata": {
        "trusted": true
      },
      "execution_count": 4,
      "outputs": [
        {
          "name": "stdout",
          "text": "                                                           Bowser  \\\nCharacter                                                           \nBowser          [0.0, 0.0, 0.0, 0.0, 0.0, 0.0, 0.0, 0.0, 0.0, ...   \nCaptain Falcon  [2.0, 2.0, 2.0, 1.0, 1.0, 1.0, 2.0, 2.0, 2.0, ...   \nCharizard       [0.5, 0.5, 0.5, 1.0, 1.0, 1.0, 1.0, 1.0, 1.0, ...   \n\n                                                   Captain Falcon  \\\nCharacter                                                           \nBowser          [0.0, 0.0, 0.0, -2.0, 1.0, -1.0, -1.0, -1.0, -...   \nCaptain Falcon  [0.0, 0.0, 0.0, 0.0, 0.0, 0.0, 0.0, 0.0, 0.0, ...   \nCharizard       [0.0, 0.0, 0.0, -0.5, -0.5, -0.5, 1.0, 1.0, 1....   \n\n                                                        Charizard  \\\nCharacter                                                           \nBowser          [0.5, 0.5, 0.5, -0.5, 2.0, -1.0, -1.0, -1.0, -...   \nCaptain Falcon  [2.0, 2.0, 2.0, 0.5, 0.5, 0.5, 1.0, 1.0, 1.0, ...   \nCharizard       [0.0, 0.0, 0.0, 0.0, 0.0, 0.0, 0.0, 0.0, 0.0, ...   \n\n                                                       Diddy Kong  \\\nCharacter                                                           \nBowser          [-0.5, -0.5, -0.5, -1.0, 0.5, 0.5, 0.5, 0.5, 0.5]   \nCaptain Falcon  [0.5, 0.5, 0.5, 0.0, 0.0, 0.0, 1.0, 1.0, 1.0, ...   \nCharizard       [0.0, 0.0, 0.0, -0.5, -0.5, -0.5, 0.0, 0.0, 0....   \n\n                                                      Donkey Kong  \\\nCharacter                                                           \nBowser          [0.0, 0.0, 0.0, 0.5, 0.0, -1.0, -1.0, -1.0, -1...   \nCaptain Falcon  [1.0, 1.0, 1.0, 0.5, 0.5, 0.5, 0.0, 0.0, 0.0, ...   \nCharizard       [-0.5, -0.5, -0.5, 0.5, 0.5, 0.5, -0.5, -0.5, ...   \n\n                                                            Falco  \\\nCharacter                                                           \nBowser          [1.0, 1.0, 1.0, -1.0, -2.0, 1.0, 1.0, 1.0, 1.0...   \nCaptain Falcon  [-0.5, -0.5, -0.5, -1.0, -1.0, -1.0, -0.5, -0....   \nCharizard       [0.5, 0.5, 0.5, -2.0, -2.0, -2.0, -1.0, -1.0, ...   \n\n                                                              Fox  \\\nCharacter                                                           \nBowser          [1.0, 1.0, 1.0, 0.0, 2.0, 1.0, 1.0, 1.0, 1.0, ...   \nCaptain Falcon  [-2.0, -2.0, -2.0, -1.0, -1.0, -1.0, -1.0, -1....   \nCharizard       [0.5, 0.5, 0.5, -1.0, -1.0, -1.0, -1.0, -1.0, ...   \n\n                                                        Ganondorf  \\\nCharacter                                                           \nBowser          [1.0, 1.0, 1.0, -0.5, 1.0, -1.0, -1.0, -1.0, -...   \nCaptain Falcon  [2.0, 2.0, 2.0, 1.0, 1.0, 1.0, 1.0, 1.0, 1.0, ...   \nCharizard       [0.5, 0.5, 0.5, 1.0, 1.0, 1.0, 1.0, 1.0, 1.0, ...   \n\n                                                     Ice Climbers  \\\nCharacter                                                           \nBowser          [0.0, 0.0, 0.0, -3.0, -0.5, -2.0, -2.0, -2.0, ...   \nCaptain Falcon  [3.0, 3.0, 3.0, 1.0, 1.0, 1.0, 2.0, 2.0, 2.0, ...   \nCharizard       [-1.0, -1.0, -1.0, -1.0, -1.0, -1.0, -1.0, -1....   \n\n                                                              Ike  ...  \\\nCharacter                                                          ...   \nBowser          [0.5, 0.5, 0.5, -0.5, -1.0, -1.0, -1.0, -1.0, ...  ...   \nCaptain Falcon  [0.5, 0.5, 0.5, 1.0, 1.0, 1.0, 0.5, 0.5, 0.5, ...  ...   \nCharizard       [0.0, 0.0, 0.0, 0.5, 0.5, 0.5, 0.5, 0.5, 0.5, ...  ...   \n\n                                                            Sheik  \\\nCharacter                                                           \nBowser          [-1.0, -1.0, -1.0, -2.0, -1.0, -0.5, -0.5, -0....   \nCaptain Falcon  [-2.0, -2.0, -2.0, -1.0, -1.0, -1.0, -2.0, -2....   \nCharizard       [0.0, 0.0, 0.0, 0.0, 0.0, 0.0, -1.0, -1.0, -1....   \n\n                                                            Snake  \\\nCharacter                                                           \nBowser          [0.5, 0.5, 0.5, -1.0, -3.0, 0.5, 0.5, 0.5, 0.5...   \nCaptain Falcon  [0.5, 0.5, 0.5, 1.0, 1.0, 1.0, 1.0, 1.0, 1.0, ...   \nCharizard       [0.0, 0.0, 0.0, 0.0, 0.0, 0.0, 0.5, 0.5, 0.5, ...   \n\n                                                            Sonic  \\\nCharacter                                                           \nBowser          [-0.5, -0.5, -0.5, -1.0, -2.0, -1.0, -1.0, -1....   \nCaptain Falcon  [2.0, 2.0, 2.0, 0.5, 0.5, 0.5, -0.5, -0.5, -0....   \nCharizard       [-1.0, -1.0, -1.0, -1.0, -1.0, -1.0, -2.0, -2....   \n\n                                                         Squirtle  \\\nCharacter                                                           \nBowser          [0.0, 0.0, 0.0, -1.0, -0.5, -1.0, -1.0, -1.0, ...   \nCaptain Falcon  [0.5, 0.5, 0.5, 1.0, 1.0, 1.0, 0.0, 0.0, 0.0, ...   \nCharizard       [0.0, 0.0, 0.0, 0.5, 0.5, 0.5, -0.5, -0.5, -0....   \n\n                                                        Toon Link  \\\nCharacter                                                           \nBowser          [0.0, 0.0, 0.0, -2.0, -2.0, -0.5, -0.5, -0.5, ...   \nCaptain Falcon  [2.0, 2.0, 2.0, 1.0, 1.0, 1.0, 2.0, 2.0, 2.0, ...   \nCharizard       [0.5, 0.5, 0.5, 0.0, 0.0, 0.0, -1.0, -1.0, -1....   \n\n                                                            Wario  \\\nCharacter                                                           \nBowser          [-0.5, -0.5, -0.5, -2.0, -0.5, -1.0, -1.0, -1....   \nCaptain Falcon  [0.5, 0.5, 0.5, 0.5, 0.5, 0.5, 0.5, 0.5, 0.5, ...   \nCharizard       [0.5, 0.5, 0.5, 0.5, 0.5, 0.5, 1.0, 1.0, 1.0, ...   \n\n                                                             Wolf  \\\nCharacter                                                           \nBowser          [-0.5, -0.5, -0.5, -0.5, 1.0, 0.5, 0.5, 0.5, 0...   \nCaptain Falcon  [-0.5, -0.5, -0.5, -0.5, -0.5, -0.5, -0.5, -0....   \nCharizard       [-1.0, -1.0, -1.0, -1.0, -1.0, -1.0, -3.0, -3....   \n\n                                                            Yoshi  \\\nCharacter                                                           \nBowser          [1.0, 1.0, 1.0, -1.0, 1.0, 0.5, 0.5, 0.5, 0.5,...   \nCaptain Falcon  [2.0, 2.0, 2.0, 1.0, 1.0, 1.0, 0.0, 0.0, 0.0, ...   \nCharizard       [0.5, 0.5, 0.5, 0.0, 0.0, 0.0, -1.0, -1.0, -1....   \n\n                                                            Zelda  \\\nCharacter                                                           \nBowser          [0.5, 0.5, 0.5, -1.0, 2.0, 1.0, 1.0, 1.0, 1.0,...   \nCaptain Falcon  [3.0, 3.0, 3.0, 1.0, 1.0, 1.0, 2.0, 2.0, 2.0, ...   \nCharizard       [1.0, 1.0, 1.0, 0.5, 0.5, 0.5, 1.0, 1.0, 1.0, ...   \n\n                                                  Zero Suit Samus  \nCharacter                                                          \nBowser          [0.0, 0.0, 0.0, -1.0, -0.5, -1.0, -1.0, -1.0, ...  \nCaptain Falcon  [0.0, 0.0, 0.0, 0.5, 0.5, 0.5, 0.0, 0.0, 0.0, ...  \nCharizard       [-0.5, -0.5, -0.5, -1.0, -1.0, -1.0, -3.0, -3....  \n\n[3 rows x 42 columns]\n",
          "output_type": "stream"
        }
      ]
    },
    {
      "cell_type": "markdown",
      "source": "### Duplication 👥\nMatchup data is propagated from each cell to it's corresponding inverse cell.<br>\n*e.g. the data from the Bowser vs Captain Falcon cell is duplicated, negated, and appended to the data in the Captain Falcon vs Bowser cell*",
      "metadata": {}
    },
    {
      "cell_type": "code",
      "source": "combinedDf = aggregatedDf.copy()\n\nfor character in aggregatedDf.index:\n    for opponent in aggregatedDf.columns:\n        combinedList = aggregatedDf[opponent][character] + [i * -1 for i in (aggregatedDf[character][opponent])]\n        combinedDf[opponent][character] = combinedList",
      "metadata": {
        "trusted": true
      },
      "execution_count": 5,
      "outputs": []
    },
    {
      "cell_type": "markdown",
      "source": "We can now access all submitted matchup data between any two charactres with a lookup of their corresponding column and row.<br>\nFor example, here is all the data in the Captain Falcon vs Marth matchup from the perspective of the Captain Falcon players:",
      "metadata": {}
    },
    {
      "cell_type": "code",
      "source": "print(combinedDf[\"Marth\"][\"Captain Falcon\"])",
      "metadata": {
        "trusted": true
      },
      "execution_count": 6,
      "outputs": [
        {
          "name": "stdout",
          "text": "[0.0, 0.0, 0.0, 0.0, 0.0, 0.0, 0.0, 0.0, 0.0, 0.5, 0.5, 0.5, 0.5, 0.5, -0.0, -0.0, -0.0, 0.5, 0.5, 2.0, -0.0, 1.0, 1.0, 1.0, 1.0, 1.0, -0.5, -0.5, -0.5, -0.5, -0.5, -0.0, -0.0, -0.0, -0.0, -0.0, -0.5, -0.5, -0.5, -0.5, -0.5]\n",
          "output_type": "stream"
        }
      ]
    },
    {
      "cell_type": "markdown",
      "source": "And here is the data from the Marth player perspective:",
      "metadata": {}
    },
    {
      "cell_type": "code",
      "source": "print(combinedDf[\"Captain Falcon\"][\"Marth\"])",
      "metadata": {
        "trusted": true
      },
      "execution_count": 7,
      "outputs": [
        {
          "name": "stdout",
          "text": "[0.0, 0.0, 0.0, -0.5, -0.5, -2.0, 0.0, -1.0, -1.0, -1.0, -1.0, -1.0, 0.5, 0.5, 0.5, 0.5, 0.5, 0.0, 0.0, 0.0, 0.0, 0.0, 0.5, 0.5, 0.5, 0.5, 0.5, -0.0, -0.0, -0.0, -0.0, -0.0, -0.0, -0.0, -0.0, -0.0, -0.5, -0.5, -0.5, -0.5, -0.5]\n",
          "output_type": "stream"
        }
      ]
    },
    {
      "cell_type": "markdown",
      "source": "## Calculations 📊\n\nCalculate the mean and standard error for each matchup.",
      "metadata": {}
    },
    {
      "cell_type": "code",
      "source": "#Mean\ndef mean(data):\n    return sum(data) / len(data)\n\nmeanDf = combinedDf.applymap(mean)\n\nprint(meanDf.head(5))",
      "metadata": {
        "trusted": true
      },
      "execution_count": 8,
      "outputs": [
        {
          "name": "stdout",
          "text": "                  Bowser  Captain Falcon  Charizard  Diddy Kong  Donkey Kong  \\\nCharacter                                                                      \nBowser          0.000000       -1.280000  -0.634615   -0.666667    -0.666667   \nCaptain Falcon  1.280000        0.000000   0.176471   -0.189655    -0.019231   \nCharizard       0.634615       -0.176471   0.000000   -0.393939     0.283333   \nDiddy Kong      0.666667        0.189655   0.393939    0.000000    -0.680000   \nDonkey Kong     0.666667        0.019231  -0.283333    0.680000     0.000000   \n\n                   Falco       Fox  Ganondorf  Ice Climbers       Ike  ...  \\\nCharacter                                                              ...   \nBowser         -0.175000  0.325000  -0.648148     -1.395833 -0.774194  ...   \nCaptain Falcon -0.714286 -0.576923   0.859375      0.948276 -0.040541  ...   \nCharizard      -0.062500  0.071429   0.857143     -1.440000  0.083333  ...   \nDiddy Kong      0.104167 -0.250000   0.467742     -0.440000 -0.013889  ...   \nDonkey Kong     0.214286  0.547619   0.928571     -1.416667 -0.106061  ...   \n\n                   Sheik     Snake     Sonic  Squirtle  Toon Link     Wario  \\\nCharacter                                                                     \nBowser         -1.375000 -1.136364 -1.134615 -1.000000  -0.264706 -1.100000   \nCaptain Falcon -1.060000  0.444444  0.193548 -0.267857   1.340909  0.180000   \nCharizard      -0.173077  0.306452 -0.823529 -0.395833  -0.804348 -0.086207   \nDiddy Kong     -0.229167  0.571429 -0.620690 -0.092593   0.538462  0.145833   \nDonkey Kong    -0.238095 -0.136364 -0.942308  0.717391  -0.235294  0.083333   \n\n                    Wolf     Yoshi     Zelda  Zero Suit Samus  \nCharacter                                                      \nBowser         -0.452381  0.404762  0.321429        -1.100000  \nCaptain Falcon -0.750000  0.500000  1.354167        -0.216667  \nCharizard      -1.055556  0.900000  0.517857        -1.058824  \nDiddy Kong     -0.520000 -0.020000  0.361111        -0.465517  \nDonkey Kong    -0.119048  1.595238  0.973684        -0.060000  \n\n[5 rows x 42 columns]\n",
          "output_type": "stream"
        }
      ]
    },
    {
      "cell_type": "code",
      "source": "#Standard error of the mean\ndef sem(data):\n    return np.std(data, ddof=1) / np.sqrt(np.size(data))\n\nsemDf = combinedDf.applymap(sem)\n\nprint(semDf.head(5))",
      "metadata": {
        "trusted": true
      },
      "execution_count": 9,
      "outputs": [
        {
          "name": "stdout",
          "text": "                  Bowser  Captain Falcon  Charizard  Diddy Kong  Donkey Kong  \\\nCharacter                                                                      \nBowser          0.000000        0.168523   0.142930    0.206116     0.159364   \nCaptain Falcon  0.168523        0.000000   0.163357    0.127533     0.142723   \nCharizard       0.142930        0.163357   0.000000    0.089076     0.119104   \nDiddy Kong      0.206116        0.127533   0.089076    0.000000     0.099499   \nDonkey Kong     0.159364        0.142723   0.119104    0.099499     0.000000   \n\n                   Falco       Fox  Ganondorf  Ice Climbers       Ike  ...  \\\nCharacter                                                              ...   \nBowser          0.230203  0.233043   0.152880      0.162016  0.083081  ...   \nCaptain Falcon  0.094940  0.163360   0.087628      0.189543  0.095661  ...   \nCharizard       0.223835  0.155827   0.109566      0.101325  0.083333  ...   \nDiddy Kong      0.162016  0.214932   0.100898      0.150886  0.064507  ...   \nDonkey Kong     0.222463  0.197920   0.119839      0.158305  0.060606  ...   \n\n                   Sheik     Snake     Sonic  Squirtle  Toon Link     Wario  \\\nCharacter                                                                     \nBowser          0.194919  0.296410  0.090118  0.133366   0.297408  0.112390   \nCaptain Falcon  0.120139  0.131649  0.134559  0.144297   0.124778  0.086023   \nCharizard       0.107210  0.075766  0.075768  0.185476   0.210258  0.153106   \nDiddy Kong      0.116482  0.130410  0.081000  0.106876   0.105331  0.056138   \nDonkey Kong     0.187779  0.242154  0.108581  0.136392   0.348626  0.129415   \n\n                    Wolf     Yoshi     Zelda  Zero Suit Samus  \nCharacter                                                      \nBowser          0.175610  0.101295  0.260004         0.122474  \nCaptain Falcon  0.050000  0.156893  0.148907         0.091862  \nCharizard       0.160868  0.205387  0.083262         0.111233  \nDiddy Kong      0.088882  0.133791  0.197226         0.065329  \nDonkey Kong     0.133206  0.181328  0.189157         0.116619  \n\n[5 rows x 42 columns]\n",
          "output_type": "stream"
        }
      ]
    },
    {
      "cell_type": "markdown",
      "source": "## Export ➡️\n\nSave the data to csv. Will import the data in Google Sheets to format and share results.",
      "metadata": {}
    },
    {
      "cell_type": "code",
      "source": "meanDf.to_csv('mean_data.csv')\nsemDf.to_csv('sem_data.csv')",
      "metadata": {
        "trusted": true
      },
      "execution_count": 13,
      "outputs": []
    }
  ]
}